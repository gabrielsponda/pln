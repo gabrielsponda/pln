{
  "nbformat": 4,
  "nbformat_minor": 0,
  "metadata": {
    "colab": {
      "provenance": []
    },
    "kernelspec": {
      "name": "python3",
      "display_name": "Python 3"
    },
    "language_info": {
      "name": "python"
    }
  },
  "cells": [
    {
      "cell_type": "markdown",
      "source": [
        "# **Processamento de Linguagem Natural [2024-Q2]**\n",
        "Prof. Alexandre Donizeti Alves"
      ],
      "metadata": {
        "id": "fCVk7Z3bTvcz"
      }
    },
    {
      "cell_type": "markdown",
      "source": [
        "<br>\n",
        "\n",
        "---"
      ],
      "metadata": {
        "id": "sHfiIxhRYbUV"
      }
    },
    {
      "cell_type": "markdown",
      "source": [
        "## **PROJETO PRÁTICO** [LangChain + Grandes Modelos de Linguagem + API]"
      ],
      "metadata": {
        "id": "pIhXZJ8JTzkX"
      }
    },
    {
      "cell_type": "markdown",
      "source": [
        "### **EQUIPE**\n",
        "---"
      ],
      "metadata": {
        "id": "GM-lyNavPpmR"
      }
    },
    {
      "cell_type": "markdown",
      "source": [
        "**Integrante 01:**\n",
        "\n",
        "Nome: `GABRIEL SPONDA FREITAS BETTARELLO`\n",
        "<br>\n",
        "RA: `11201932580`\n",
        "\n",
        "<br>\n",
        "\n",
        "**Integrante 02:**\n",
        "\n",
        "Nome: `GABRIEL BELLOMI MEALE`\n",
        "<br>\n",
        "RA: `11091915`"
      ],
      "metadata": {
        "id": "7dJm_AthZ9Rz"
      }
    },
    {
      "cell_type": "markdown",
      "source": [
        "<br>"
      ],
      "metadata": {
        "id": "7wZJyI6TYY5z"
      }
    },
    {
      "cell_type": "markdown",
      "source": [
        "### **GRANDE MODELO DE LINGUAGEM (*Large Language Model - LLM*)**\n",
        "---\n"
      ],
      "metadata": {
        "id": "9cqShuW3U_hQ"
      }
    },
    {
      "cell_type": "markdown",
      "source": [
        "**LLM**: GPT-3.5 Turbo\n",
        "\n",
        "**Link para a documentação oficial**: https://platform.openai.com/docs/models/gpt-3-5-turbo"
      ],
      "metadata": {
        "id": "5LPQHwJtZ5ku"
      }
    },
    {
      "cell_type": "markdown",
      "source": [
        "<br>"
      ],
      "metadata": {
        "id": "K0VFq14GYYF4"
      }
    },
    {
      "cell_type": "markdown",
      "source": [
        "### **API**\n",
        "---"
      ],
      "metadata": {
        "id": "og-ZZvTNWDme"
      }
    },
    {
      "cell_type": "markdown",
      "source": [
        "**API**: OpenAI API\n",
        "\n",
        "**Site oficial**: https://openai.com/api/\n",
        "\n",
        "**Link para a documentação oficial**: https://platform.openai.com/docs/overview"
      ],
      "metadata": {
        "id": "Shdyj2n8Z2j8"
      }
    },
    {
      "cell_type": "markdown",
      "source": [
        "<br>"
      ],
      "metadata": {
        "id": "GFQOYqL7YXKL"
      }
    },
    {
      "cell_type": "markdown",
      "source": [
        "### **DESCRIÇÃO**\n",
        "---"
      ],
      "metadata": {
        "id": "jAXejWkZWnrL"
      }
    },
    {
      "cell_type": "markdown",
      "source": [
        "O projeto consiste em uma análise automatizada de avaliações de alunos sobre professores utilizando técnicas de processamento de linguagem natural (PLN). Ele processa textos para identificar sentimentos predominantes, fornece recomendações sobre os professores, e resume feedbacks em um parágrafo. Utilizando o modelo de linguagem GPT-3.5-turbo, o sistema analisa cada comentário dos alunos e classifica as emoções expressas. O resultado é uma apresentação estruturada que inclui os sentimentos mais comuns, uma recomendação global (Recomendado, Não Recomendado ou Mista) e um resumo dos pontos fortes e fracos mencionados nas avaliações.\n",
        "\n",
        "<br>\n",
        "\n",
        "**Técnicas de PLN Utilizadas:**\n",
        "\n",
        "- Análise de Sentimentos: O projeto identifica e classifica as emoções expressas nos comentários dos alunos.\n",
        "- Detecção de Emoções: Determina quais sentimentos predominam em cada avaliação para informar as recomendações.\n",
        "- Sumarização de Textos: Resume o feedback dos alunos em um parágrafo, destacando pontos fortes e fracos."
      ],
      "metadata": {
        "id": "3iIBZo1zZvz3"
      }
    },
    {
      "cell_type": "markdown",
      "source": [
        "<br>"
      ],
      "metadata": {
        "id": "lT-cTx4hYWLr"
      }
    },
    {
      "cell_type": "markdown",
      "source": [
        "### **CRITÉRIOS DE AVALIAÇÃO**\n",
        "---"
      ],
      "metadata": {
        "id": "d4a6er8YXwvL"
      }
    },
    {
      "cell_type": "markdown",
      "source": [
        "Serão considerados como critérios de avaliação os seguintes pontos:\n",
        "\n",
        "* Uso do framework **`LangChain`**. <span>&#9989;</span>\n",
        "\n",
        "* Escolha e uso de um **LLM**. <span>&#9989;</span>\n",
        "\n",
        "* Escolha e uso de uma **API**. <span>&#9989;</span>\n",
        "\n",
        "* Vídeo (5 a 10 minutos). <span>&#9989;</span>\n",
        "\n",
        "* Criatividade no uso do framework **`LangChain`** em conjunto com o **LLM** e a **API**. <span>&#9989;</span>"
      ],
      "metadata": {
        "id": "82VKBY0xZo98"
      }
    },
    {
      "cell_type": "markdown",
      "source": [
        "<br>"
      ],
      "metadata": {
        "id": "u4y_H-W0YRZp"
      }
    },
    {
      "cell_type": "markdown",
      "source": [
        "### **IMPLEMENTAÇÃO**\n",
        "---"
      ],
      "metadata": {
        "id": "iHLC1ynPYOeg"
      }
    },
    {
      "cell_type": "markdown",
      "source": [
        "#### Instalação de Pacotes\n",
        "\n",
        "Este bloco de código é responsável pela instalação das bibliotecas necessárias para o projeto. As bibliotecas incluem `langchain`, que é usada para construir e gerenciar cadeias de linguagem, `langchain-openai` para integrar com os modelos da OpenAI, e `pandas` para manipulação de dados estruturados em DataFrames. A flag `-q` é utilizada para silenciar a saída do processo de instalação, tornando o notebook mais limpo."
      ],
      "metadata": {
        "id": "-WlnQHxZZe_H"
      }
    },
    {
      "cell_type": "code",
      "source": [
        "!pip install -q langchain\n",
        "!pip install -q langchain-openai\n",
        "!pip install -q pandas"
      ],
      "metadata": {
        "id": "4AViW4Yi7BOG",
        "colab": {
          "base_uri": "https://localhost:8080/"
        },
        "outputId": "70a30cbd-a083-4fac-b3fb-844b043b0ce4"
      },
      "execution_count": 1,
      "outputs": [
        {
          "output_type": "stream",
          "name": "stdout",
          "text": [
            "\u001b[2K     \u001b[90m━━━━━━━━━━━━━━━━━━━━━━━━━━━━━━━━━━━━━━━━\u001b[0m \u001b[32m50.4/50.4 kB\u001b[0m \u001b[31m1.8 MB/s\u001b[0m eta \u001b[36m0:00:00\u001b[0m\n",
            "\u001b[2K   \u001b[90m━━━━━━━━━━━━━━━━━━━━━━━━━━━━━━━━━━━━━━━━\u001b[0m \u001b[32m1.0/1.0 MB\u001b[0m \u001b[31m13.8 MB/s\u001b[0m eta \u001b[36m0:00:00\u001b[0m\n",
            "\u001b[2K   \u001b[90m━━━━━━━━━━━━━━━━━━━━━━━━━━━━━━━━━━━━━━━━\u001b[0m \u001b[32m395.9/395.9 kB\u001b[0m \u001b[31m20.0 MB/s\u001b[0m eta \u001b[36m0:00:00\u001b[0m\n",
            "\u001b[2K   \u001b[90m━━━━━━━━━━━━━━━━━━━━━━━━━━━━━━━━━━━━━━━━\u001b[0m \u001b[32m150.6/150.6 kB\u001b[0m \u001b[31m8.4 MB/s\u001b[0m eta \u001b[36m0:00:00\u001b[0m\n",
            "\u001b[2K   \u001b[90m━━━━━━━━━━━━━━━━━━━━━━━━━━━━━━━━━━━━━━━━\u001b[0m \u001b[32m76.4/76.4 kB\u001b[0m \u001b[31m3.9 MB/s\u001b[0m eta \u001b[36m0:00:00\u001b[0m\n",
            "\u001b[2K   \u001b[90m━━━━━━━━━━━━━━━━━━━━━━━━━━━━━━━━━━━━━━━━\u001b[0m \u001b[32m77.9/77.9 kB\u001b[0m \u001b[31m4.6 MB/s\u001b[0m eta \u001b[36m0:00:00\u001b[0m\n",
            "\u001b[2K   \u001b[90m━━━━━━━━━━━━━━━━━━━━━━━━━━━━━━━━━━━━━━━━\u001b[0m \u001b[32m141.9/141.9 kB\u001b[0m \u001b[31m8.5 MB/s\u001b[0m eta \u001b[36m0:00:00\u001b[0m\n",
            "\u001b[2K   \u001b[90m━━━━━━━━━━━━━━━━━━━━━━━━━━━━━━━━━━━━━━━━\u001b[0m \u001b[32m58.3/58.3 kB\u001b[0m \u001b[31m3.2 MB/s\u001b[0m eta \u001b[36m0:00:00\u001b[0m\n",
            "\u001b[2K   \u001b[90m━━━━━━━━━━━━━━━━━━━━━━━━━━━━━━━━━━━━━━━━\u001b[0m \u001b[32m52.0/52.0 kB\u001b[0m \u001b[31m1.9 MB/s\u001b[0m eta \u001b[36m0:00:00\u001b[0m\n",
            "\u001b[2K   \u001b[90m━━━━━━━━━━━━━━━━━━━━━━━━━━━━━━━━━━━━━━━━\u001b[0m \u001b[32m362.9/362.9 kB\u001b[0m \u001b[31m9.2 MB/s\u001b[0m eta \u001b[36m0:00:00\u001b[0m\n",
            "\u001b[2K   \u001b[90m━━━━━━━━━━━━━━━━━━━━━━━━━━━━━━━━━━━━━━━━\u001b[0m \u001b[32m1.1/1.1 MB\u001b[0m \u001b[31m28.1 MB/s\u001b[0m eta \u001b[36m0:00:00\u001b[0m\n",
            "\u001b[2K   \u001b[90m━━━━━━━━━━━━━━━━━━━━━━━━━━━━━━━━━━━━━━━━\u001b[0m \u001b[32m318.9/318.9 kB\u001b[0m \u001b[31m17.2 MB/s\u001b[0m eta \u001b[36m0:00:00\u001b[0m\n",
            "\u001b[?25h"
          ]
        }
      ]
    },
    {
      "cell_type": "markdown",
      "source": [
        "#### Configuração da Chave da API\n",
        "\n",
        "Este trecho de código importa as bibliotecas `getpass` e `os`, que são utilizadas para manipular variáveis de ambiente de forma segura. A chave da API da OpenAI é solicitada ao usuário por meio de `getpass.getpass()`, o que evita que a chave seja exibida em texto puro. A chave é então armazenada como uma variável de ambiente, permitindo que o código acesse a API de maneira segura e eficiente."
      ],
      "metadata": {
        "id": "3KfmccwgPr6g"
      }
    },
    {
      "cell_type": "code",
      "source": [
        "import getpass\n",
        "import os\n",
        "\n",
        "os.environ[\"OPENAI_API_KEY\"] = getpass.getpass()"
      ],
      "metadata": {
        "colab": {
          "base_uri": "https://localhost:8080/"
        },
        "id": "k9-95gKlHBrc",
        "outputId": "afd278e9-c4c3-471c-97d1-39eaf1be295c"
      },
      "execution_count": 2,
      "outputs": [
        {
          "name": "stdout",
          "output_type": "stream",
          "text": [
            "··········\n"
          ]
        }
      ]
    },
    {
      "cell_type": "markdown",
      "source": [
        "#### Configuração do Modelo de Linguagem\n",
        "\n",
        "Este bloco inicializa o modelo `ChatOpenAI` da biblioteca `langchain_openai`. O modelo selecionado é `gpt-3.5-turbo`, conhecido por suas capacidades de processamento de linguagem natural. A temperatura do modelo é definida como 0.3, o que controla a aleatoriedade das respostas geradas. Valores mais baixos de temperatura resultam em saídas mais determinísticas, enquanto valores mais altos introduzem mais variabilidade."
      ],
      "metadata": {
        "id": "EETof9-aPuCm"
      }
    },
    {
      "cell_type": "code",
      "source": [
        "from langchain_openai import ChatOpenAI\n",
        "\n",
        "modelo = ChatOpenAI(model=\"gpt-3.5-turbo\", temperature=0.3)"
      ],
      "metadata": {
        "id": "h_q-yAGoHVeM"
      },
      "execution_count": 28,
      "outputs": []
    },
    {
      "cell_type": "markdown",
      "source": [
        "#### Definição de Sentimentos Permitidos\n",
        "\n",
        "Aqui, uma lista de sentimentos permitidos é definida. Esses sentimentos são usados para a análise das avaliações e são identificados como as emoções que o modelo deve reconhecer e classificar. A lista inclui sentimentos como \"admiração\", \"adoração\", \"alívio\", \"ansiedade\", entre outros. Essa lista serve como um filtro para garantir que apenas emoções relevantes sejam consideradas durante o processamento das avaliações."
      ],
      "metadata": {
        "id": "rRyuLxz3PvfS"
      }
    },
    {
      "cell_type": "code",
      "source": [
        "sentimentos_permitidos = [\n",
        "    \"admiração\", \"adoração\", \"alívio\", \"anseio\", \"ansiedade\", \"apreciação estética\", \"arrebatamento\", \"calma\",\n",
        "    \"confusão\", \"desejo sexual\", \"dor empática\", \"espanto\", \"estranhamento\", \"excitação\", \"horror\", \"inveja\",\n",
        "    \"interesse\", \"júbilo\", \"medo\", \"nojo\", \"nostalgia\", \"raiva\", \"romance\", \"satisfação\", \"surpresa\", \"tédio\", \"tristeza\"\n",
        "]"
      ],
      "metadata": {
        "id": "E8KP4JPYHFk3"
      },
      "execution_count": 23,
      "outputs": []
    },
    {
      "cell_type": "markdown",
      "source": [
        "#### Criação de Prompts para Análise\n",
        "\n",
        "Este bloco define funções para criar prompts que serão utilizados nas análises:\n",
        "\n",
        "- **`criar_prompt_emocoes`:** Esta função cria um prompt para identificar o sentimento principal em um texto, usando apenas os sentimentos listados previamente.\n",
        "- **`criar_prompt_recomendacao`:** Esta função cria um prompt que determina se um professor é recomendado com base nos sentimentos agregados dos alunos, oferecendo opções de resposta como 'Recomendado', 'Não recomendado' ou 'Mista'.\n",
        "- **`criar_prompt_resumo`:** Esta função gera um prompt que resume os feedbacks dos alunos em um parágrafo, destacando pontos fortes e fracos.\n",
        "\n",
        "Essas funções utilizam o `ChatPromptTemplate` para estruturar as mensagens de entrada e saída, facilitando a integração com o modelo de linguagem."
      ],
      "metadata": {
        "id": "7A_yTOtwPxig"
      }
    },
    {
      "cell_type": "code",
      "source": [
        "from langchain.prompts import ChatPromptTemplate\n",
        "\n",
        "def criar_prompt_emocoes():\n",
        "    return ChatPromptTemplate.from_messages([\n",
        "        (\"system\", f\"Você é um assistente que identifica o sentimento principal em um texto dado. Use somente os seguintes sentimentos: {', '.join(sentimentos_permitidos)}. Você deve escolher ao menos um.\"),\n",
        "        (\"user\", \"Texto: {text}\")\n",
        "    ])\n",
        "\n",
        "def criar_prompt_recomendacao():\n",
        "    return ChatPromptTemplate.from_messages([\n",
        "        (\"system\", \"Você é um assistente que determina se um professor é recomendado com base nos sentimentos agregados de alunos que você detectou.\"),\n",
        "        (\"user\", \"Emoções: {emotions} - Responda com 'Recomendado', 'Não recomendado' ou 'Mista'.\")\n",
        "    ])\n",
        "\n",
        "def criar_prompt_resumo():\n",
        "    return ChatPromptTemplate.from_messages([\n",
        "        (\"system\", \"Você é um assistente que resume os feedbacks dos alunos em um parágrafo destacando os pontos fortes e fracos.\"),\n",
        "        (\"user\", \"Feedbacks: {feedbacks}\")\n",
        "    ])"
      ],
      "metadata": {
        "id": "aB1Giy4cHfZ8"
      },
      "execution_count": 29,
      "outputs": []
    },
    {
      "cell_type": "markdown",
      "source": [
        "#### Processamento de Avaliações\n",
        "\n",
        "O código neste bloco importa `StrOutputParser` e `Counter` para auxiliar no processamento de textos e contagem de ocorrências, respectivamente. A função `processar_avaliacoes` percorre as avaliações dos professores, executando uma cadeia de prompts para determinar as emoções expressas nos textos, fazer recomendações e resumir feedbacks:\n",
        "\n",
        "- **Identificação de Emoções:** As emoções expressas em cada avaliação são identificadas e armazenadas.\n",
        "- **Filtragem e Contagem:** Apenas as emoções permitidas são mantidas e contadas para determinar quais são as mais relevantes.\n",
        "- **Recomendação:** Baseando-se nas emoções filtradas, a função determina se o professor é recomendado.\n",
        "- **Resumo:** Um resumo das avaliações é gerado, destacando os pontos principais.\n",
        "\n",
        "Os resultados são compilados em uma lista de strings formatadas, cada uma representando um resumo e recomendação para um professor específico."
      ],
      "metadata": {
        "id": "CRUcoPqyPzfe"
      }
    },
    {
      "cell_type": "code",
      "source": [
        "from langchain_core.output_parsers import StrOutputParser\n",
        "from collections import Counter\n",
        "\n",
        "def processar_avaliacoes(avaliacoes):\n",
        "    prompt_emocoes = criar_prompt_emocoes()\n",
        "    prompt_recomendacao = criar_prompt_recomendacao()\n",
        "    prompt_resumo = criar_prompt_resumo()\n",
        "\n",
        "    recomendacoes = []\n",
        "\n",
        "    professores = avaliacoes[\"Professor\"].unique()\n",
        "    for professor in professores:\n",
        "        avaliacoes_professor = avaliacoes[avaliacoes[\"Professor\"] == professor]\n",
        "        todas_emocoes = []\n",
        "        todos_feedbacks = []\n",
        "\n",
        "        for index, row in avaliacoes_professor.iterrows():\n",
        "            texto = row[\"Avaliacao\"]\n",
        "            emocoes_chain = prompt_emocoes | modelo | StrOutputParser()\n",
        "            emocoes = emocoes_chain.invoke({\"text\": texto}).strip().lower()\n",
        "            todas_emocoes.append(emocoes)\n",
        "            todos_feedbacks.append(texto)\n",
        "\n",
        "        emocoes_filtradas = [sentimento for sentimento in todas_emocoes if sentimento in sentimentos_permitidos]\n",
        "\n",
        "        if emocoes_filtradas:\n",
        "            sentimentos_relevantes = Counter(emocoes_filtradas).most_common()\n",
        "            sentimentos_relevantes = list(map(str, sentimentos_relevantes))\n",
        "\n",
        "            recomendacao_chain = prompt_recomendacao | modelo | StrOutputParser()\n",
        "            recomendacao = recomendacao_chain.invoke({\"emotions\": \", \".join(sentimentos_relevantes)}).strip()\n",
        "\n",
        "            resumo_chain = prompt_resumo | modelo | StrOutputParser()\n",
        "            resumo_feedback = resumo_chain.invoke({\"feedbacks\": \" \".join(todos_feedbacks)}).strip()\n",
        "\n",
        "            recomendacoes.append(f\"{professor}: {recomendacao} - Sentimentos dos alunos: {', '.join(sentimentos_relevantes)} - Resumo das análises: {resumo_feedback}\")\n",
        "\n",
        "    return recomendacoes"
      ],
      "metadata": {
        "id": "u7Ap5geDHzkJ"
      },
      "execution_count": 34,
      "outputs": []
    },
    {
      "cell_type": "markdown",
      "source": [
        "#### Leitura de Avaliações\n",
        "\n",
        "Este bloco utiliza a biblioteca `pandas` para ler um arquivo CSV contendo as avaliações dos alunos. O arquivo é carregado em um DataFrame, que é então passado para a função `processar_avaliacoes` para análise. A variável `nome_arquivo_entrada` especifica o nome do arquivo a ser lido, neste caso, 'avaliacao_next.csv'."
      ],
      "metadata": {
        "id": "7eJR1W5ZP2Re"
      }
    },
    {
      "cell_type": "code",
      "source": [
        "import pandas as pd\n",
        "\n",
        "nome_arquivo_entrada = 'avaliacao_next.csv'\n",
        "avaliacoes = pd.read_csv(nome_arquivo_entrada)\n",
        "\n",
        "recomendacoes = processar_avaliacoes(avaliacoes)"
      ],
      "metadata": {
        "id": "j0TIAf-_H40u"
      },
      "execution_count": 35,
      "outputs": []
    },
    {
      "cell_type": "markdown",
      "source": [
        "#### Apresentação das Recomendações\n",
        "\n",
        "Este trecho final do código utiliza `IPython.display.Markdown` e `display` para apresentar as recomendações de forma formatada e legível no Jupyter Notebook. Cada item na lista `recomendacoes` é transformado em markdown e exibido, permitindo uma visualização clara dos resultados analisados e formatados. A apresentação em markdown melhora a legibilidade e organização das informações, tornando-as mais compreensíveis para o usuário."
      ],
      "metadata": {
        "id": "BtwPk-pNP4JY"
      }
    },
    {
      "cell_type": "code",
      "source": [
        "from IPython.display import Markdown, display\n",
        "\n",
        "for item in recomendacoes:\n",
        "    item_formatado = item.replace(\" - \", \"\\n\\n\")\n",
        "    display(Markdown(item_formatado))\n",
        "    print(\"\\n\")"
      ],
      "metadata": {
        "colab": {
          "base_uri": "https://localhost:8080/",
          "height": 592
        },
        "id": "6BqC-he5IXKz",
        "outputId": "37377774-a55e-4650-bdfe-eda41b1fe642"
      },
      "execution_count": 36,
      "outputs": [
        {
          "output_type": "display_data",
          "data": {
            "text/plain": [
              "<IPython.core.display.Markdown object>"
            ],
            "text/markdown": "Alice: Com base nas emoções dos alunos, eu diria que o professor é **Recomendado**.\n\nSentimentos dos alunos: ('admiração', 10), ('confusão', 1)\n\nResumo das análises: A professora Alice é altamente elogiada por sua didática excelente, organização e disponibilidade para ajudar os alunos. Seu conhecimento sólido e habilidade de ensino são destacados, assim como a justiça de suas provas e a relação entre os exercícios e o conteúdo abordado em aula. No entanto, alguns alunos mencionam que as listas de exercícios e as provas podem ser desafiadoras, exigindo um esforço significativo para obter bons resultados. Além disso, sua exigência em relação ao formalismo e demonstrações pode ser considerada excessiva por alguns, o que pode impactar a nota final. Aqueles que se dedicam à disciplina elogiam a melhora no raciocínio e na compreensão da programação. Em resumo, a professora Alice é reconhecida por sua dedicação em ensinar e apoiar os alunos, embora sua exigência e o nível de dificuldade das avaliações possam representar um desafio para alguns estudantes."
          },
          "metadata": {}
        },
        {
          "output_type": "stream",
          "name": "stdout",
          "text": [
            "\n",
            "\n"
          ]
        },
        {
          "output_type": "display_data",
          "data": {
            "text/plain": [
              "<IPython.core.display.Markdown object>"
            ],
            "text/markdown": "Bob: Com base nas emoções agregadas dos alunos, eu diria que este professor é **Recomendado**.\n\nSentimentos dos alunos: ('admiração', 4), ('calma', 3), ('interesse', 2), ('confusão', 2), ('excitação', 1), ('medo', 1), ('satisfação', 1)\n\nResumo das análises: Os alunos destacam como pontos fortes do professor a disponibilidade para ajudar, a atenção às dúvidas dos alunos, a possibilidade de levar folha de resumo para as provas, a didática clara em algumas disciplinas e a preocupação em ensinar o conteúdo. No entanto, apontam como pontos fracos a cobrança de presença, a falta de condizência entre as listas de exercícios e as provas, a dificuldade das avaliações, a correção rigorosa em alguns casos, a aula maçante em determinadas disciplinas e a falta de clareza em algumas questões das provas. Alguns alunos mencionam que o professor pode ser grosso em certas situações e que as aulas podem ser confusas em determinados momentos. Em geral, os alunos reconhecem a boa vontade do professor em ensinar, mas destacam a necessidade de melhorias em alguns aspectos."
          },
          "metadata": {}
        },
        {
          "output_type": "stream",
          "name": "stdout",
          "text": [
            "\n",
            "\n"
          ]
        },
        {
          "output_type": "display_data",
          "data": {
            "text/plain": [
              "<IPython.core.display.Markdown object>"
            ],
            "text/markdown": "Charlie: Com base nas emoções agregadas dos alunos, eu diria que o professor é **Recomendado**.\n\nSentimentos dos alunos: ('admiração', 10), ('interesse', 4), ('calma', 3), ('confusão', 3), ('raiva', 1), ('satisfação', 1), ('ansiedade', 1), ('júbilo', 1), ('surpresa', 1)\n\nResumo das análises: O professor Charlie é reconhecido por sua vasta bagagem e conhecimento sobre o conteúdo, sendo elogiado por sua disponibilidade e didática. Se destaca por tornar as provas tranquilas e por oferecer pontos extras por participação e entrega de trabalhos. No entanto, alguns alunos apontam que ele pode divagar em alguns momentos e se empolgar demais, o que pode tornar as aulas um pouco confusas. Além disso, houve relatos de que a prova única e o método de avaliação podem não ser totalmente condizentes com o conteúdo abordado em sala. No geral, é considerado um professor amigável e que busca ajudar os alunos a obterem bons resultados."
          },
          "metadata": {}
        },
        {
          "output_type": "stream",
          "name": "stdout",
          "text": [
            "\n",
            "\n"
          ]
        }
      ]
    },
    {
      "cell_type": "markdown",
      "source": [
        "<br>"
      ],
      "metadata": {
        "id": "FP6x6MeNY6MN"
      }
    },
    {
      "cell_type": "markdown",
      "source": [
        "### **VÍDEO**\n",
        "---\n",
        "<br>\n",
        "\n",
        "**Link:** https://youtu.be/eZx3pil6Vdc"
      ],
      "metadata": {
        "id": "QT7DwBVjYy8K"
      }
    }
  ]
}
